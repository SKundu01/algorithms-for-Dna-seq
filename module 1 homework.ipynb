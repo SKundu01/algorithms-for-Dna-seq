{
 "cells": [
  {
   "cell_type": "code",
   "execution_count": 1,
   "id": "549da2c2-87a1-49d1-b13d-d397dda7b28f",
   "metadata": {},
   "outputs": [],
   "source": [
    "def readGenome(filename):\n",
    "    genome = ''\n",
    "    with open(filename, 'r') as f:\n",
    "        for line in f:\n",
    "            # ignore header line with genome information\n",
    "            if not line[0] == '>':\n",
    "                genome += line.rstrip()\n",
    "    return genome\n"
   ]
  },
  {
   "cell_type": "code",
   "execution_count": 2,
   "id": "14269cd4-8707-4a38-bf22-bf29e61dbc06",
   "metadata": {},
   "outputs": [],
   "source": [
    "def reverseComplement(s):\n",
    "    complement = {'A': 'T', 'C': 'G', 'G': 'C', 'T': 'A', 'N': 'N'}\n",
    "    t = ''\n",
    "    for base in s:\n",
    "        t = complement[base] + t\n",
    "    return t"
   ]
  },
  {
   "cell_type": "code",
   "execution_count": 13,
   "id": "bbd737b1-bb34-4f79-a8ea-86059f82515c",
   "metadata": {},
   "outputs": [],
   "source": [
    "def naive(p, t):\n",
    "    occurrences = []\n",
    "    for i in range(len(t) - len(p) + 1):  # loop over alignments\n",
    "        match = True\n",
    "        for j in range(len(p)):  # loop over characters\n",
    "            if t[i+j] != p[j]:  # compare characters\n",
    "                match = False\n",
    "                break\n",
    "        if match:\n",
    "            occurrences.append(i)  # all chars matched; record\n",
    "    return occurrences"
   ]
  },
  {
   "cell_type": "code",
   "execution_count": 4,
   "id": "8a649dcc-5645-4744-b0ed-dc0266e1917c",
   "metadata": {},
   "outputs": [],
   "source": [
    "def readFastq(filename):\n",
    "    sequences = []\n",
    "    qualities = []\n",
    "    with open(filename) as fh:\n",
    "        while True:\n",
    "            fh.readline()  # skip name line\n",
    "            seq = fh.readline().rstrip()  # read base sequence\n",
    "            fh.readline()  # skip placeholder line\n",
    "            qual = fh.readline().rstrip() # base quality line\n",
    "            if len(seq) == 0:\n",
    "                break\n",
    "            sequences.append(seq)\n",
    "            qualities.append(qual)\n",
    "    return sequences, qualities"
   ]
  },
  {
   "cell_type": "code",
   "execution_count": 16,
   "id": "df227988-ebb0-4c39-a6b4-2d009ccb50cc",
   "metadata": {},
   "outputs": [],
   "source": [
    "def naive_with_rc(p,t):\n",
    "    occurences = naive(p,t)\n",
    "    further_occurences = naive(reverseComplement(p),t)\n",
    "    revP = reverseComplement(p)\n",
    "    if p == revP:\n",
    "        return occurences\n",
    "    else:\n",
    "        return occurences + further_occurences\n",
    "                 \n",
    "          \n",
    "               "
   ]
  },
  {
   "cell_type": "code",
   "execution_count": 17,
   "id": "13d8d482-a984-431d-9064-7b76de2da092",
   "metadata": {},
   "outputs": [
    {
     "name": "stdout",
     "output_type": "stream",
     "text": [
      "[10, 24]\n"
     ]
    }
   ],
   "source": [
    "p = 'CGCG'\n",
    "t = ten_as + 'CGCG' + ten_as + 'CGCG' + ten_as\n",
    "occurrences = naive_with_rc(p, t)\n",
    "print(occurrences)"
   ]
  },
  {
   "cell_type": "code",
   "execution_count": 25,
   "id": "7ef50b2f-7b7d-42d6-b0a7-dff1944b3e98",
   "metadata": {},
   "outputs": [],
   "source": [
    "phix_genome = readGenome('phix.fa')"
   ]
  },
  {
   "cell_type": "code",
   "execution_count": 24,
   "id": "76a49f46-c612-4745-9a95-69d9b1d0bf8f",
   "metadata": {},
   "outputs": [],
   "source": [
    "occurrences = naive_with_rc('ATTA', phix_genome)"
   ]
  },
  {
   "cell_type": "code",
   "execution_count": 21,
   "id": "da375896-4246-4a36-8ab4-ebee9346688b",
   "metadata": {},
   "outputs": [
    {
     "name": "stdout",
     "output_type": "stream",
     "text": [
      "offset of leftmost occurrence: 62\n"
     ]
    }
   ],
   "source": [
    "print('offset of leftmost occurrence: %d' % min(occurrences))"
   ]
  },
  {
   "cell_type": "code",
   "execution_count": 18,
   "id": "8a2eb70c-8c2d-47e7-9e0a-8db5c6e5db68",
   "metadata": {},
   "outputs": [
    {
     "name": "stdout",
     "output_type": "stream",
     "text": [
      "[10, 23]\n"
     ]
    }
   ],
   "source": [
    "p = 'CCC'\n",
    "ten_as = 'AAAAAAAAAA'\n",
    "t = ten_as + 'CCC' + ten_as + 'GGG' + ten_as\n",
    "occurrences = naive_with_rc(p, t)\n",
    "print(occurrences)"
   ]
  },
  {
   "cell_type": "code",
   "execution_count": 22,
   "id": "7a298340-26b4-4246-a71c-0576cd89aaa1",
   "metadata": {},
   "outputs": [
    {
     "name": "stdout",
     "output_type": "stream",
     "text": [
      "# occurrences: 60\n"
     ]
    }
   ],
   "source": [
    "print('# occurrences: %d' % len(occurrences))"
   ]
  },
  {
   "cell_type": "code",
   "execution_count": 26,
   "id": "2d071a21-faf8-4373-8757-3e8f496b9428",
   "metadata": {},
   "outputs": [],
   "source": [
    "phix_genome_2 = readGenome(\"lambda_virus.fa\")"
   ]
  },
  {
   "cell_type": "code",
   "execution_count": 32,
   "id": "43525f9d-e253-4449-a435-11ec06a128f1",
   "metadata": {},
   "outputs": [
    {
     "name": "stdout",
     "output_type": "stream",
     "text": [
      "306\n"
     ]
    }
   ],
   "source": [
    "occurrences = naive_with_rc('AGGT', phix_genome_2)\n",
    "print(len(occurrences))"
   ]
  },
  {
   "cell_type": "code",
   "execution_count": 33,
   "id": "f6147679-121c-480c-be94-7f29aae15e39",
   "metadata": {},
   "outputs": [
    {
     "name": "stdout",
     "output_type": "stream",
     "text": [
      "195\n"
     ]
    }
   ],
   "source": [
    "occurrences = naive_with_rc('TTAA', phix_genome_2)\n",
    "print(len(occurrences))"
   ]
  },
  {
   "cell_type": "code",
   "execution_count": 37,
   "id": "29839642-3456-4d18-be38-2d2b3d4d1c91",
   "metadata": {},
   "outputs": [
    {
     "name": "stdout",
     "output_type": "stream",
     "text": [
      "offset of leftmost occurrence: 450\n"
     ]
    }
   ],
   "source": [
    "occurrences = naive_with_rc('AGTCGA', phix_genome_2)\n",
    "print('offset of leftmost occurrence: %d' % min(occurrences))"
   ]
  },
  {
   "cell_type": "code",
   "execution_count": 38,
   "id": "ad0c5aa4-01da-41d6-8e85-d8e14e30938f",
   "metadata": {},
   "outputs": [],
   "source": [
    "def naive_with_rc_first(p, t):\n",
    "    \"\"\"First, implement a version of the naive exact matching algorithm that is strand-aware. \n",
    "    That is, instead of looking only for occurrences of P in T, additionally look for occurrences of the reverse \n",
    "    complement of P in T. If P is ACT, your function should find occurrences of both ACT and its reverse complement AGT in T.\"\"\"\n",
    "    occurrences = naive(p, t)\n",
    "    more_occurenences = naive(reverseComplement(p), t)\n",
    "    return occurrences + more_occurenences"
   ]
  },
  {
   "cell_type": "code",
   "execution_count": 40,
   "id": "4409f55f-15f4-440d-834c-629b79525f74",
   "metadata": {},
   "outputs": [
    {
     "name": "stdout",
     "output_type": "stream",
     "text": [
      "offset of leftmost occurrence: 26028\n"
     ]
    }
   ],
   "source": [
    "occurrences = naive_with_rc_first('ACTTAGT', phix_genome_2)\n",
    "print('offset of leftmost occurrence: %d' % min(occurrences))"
   ]
  },
  {
   "cell_type": "code",
   "execution_count": 41,
   "id": "10118eaf-fc82-4844-9f43-0ad17b6525c0",
   "metadata": {},
   "outputs": [],
   "source": [
    "def naive_2mm(p,t):\n",
    "    occurrences = []\n",
    "    for i in range(len(t) - len(p) + 1):  # loop over alignments\n",
    "        match = True\n",
    "        mismatches = 0\n",
    "        for j in range(len(p)):  # loop over characters\n",
    "            if t[i+j] != p[j]:  # compare characters\n",
    "                mismatches +=1\n",
    "                if mismatches>2:\n",
    "                    match = False\n",
    "                    break\n",
    "        if match:\n",
    "            occurrences.append(i)  # all chars matched; record\n",
    "    return occurrences\n"
   ]
  },
  {
   "cell_type": "code",
   "execution_count": 42,
   "id": "e5a22c1d-5b6f-471d-94ab-cb46a8c34483",
   "metadata": {},
   "outputs": [
    {
     "name": "stdout",
     "output_type": "stream",
     "text": [
      "[10, 24, 38]\n"
     ]
    }
   ],
   "source": [
    "p = 'CTGT'\n",
    "ten_as = 'AAAAAAAAAA'\n",
    "t = ten_as + 'CTGT' + ten_as + 'CTTT' + ten_as + 'CGGG' + ten_as\n",
    "occurrences = naive_2mm(p, t)\n",
    "print(occurrences)"
   ]
  },
  {
   "cell_type": "code",
   "execution_count": 44,
   "id": "4b69dc19-234b-4f42-934e-d3dceffe49b2",
   "metadata": {},
   "outputs": [
    {
     "name": "stdout",
     "output_type": "stream",
     "text": [
      "offset of leftmost occurrence: 10\n",
      "# occurrences: 79\n"
     ]
    }
   ],
   "source": [
    "#example\n",
    "phix_genome = readGenome('phix.fa')\n",
    "occurrences = naive_2mm('GATTACA', phix_genome)\n",
    "print('offset of leftmost occurrence: %d' % min(occurrences))\n",
    "print('# occurrences: %d' % len(occurrences))"
   ]
  },
  {
   "cell_type": "code",
   "execution_count": 45,
   "id": "4c6d4dc7-dd24-4a82-8685-ed8073542fb7",
   "metadata": {},
   "outputs": [],
   "source": [
    "phix_genome_2 = readGenome(\"lambda_virus.fa\")"
   ]
  },
  {
   "cell_type": "code",
   "execution_count": 46,
   "id": "d16930dc-10df-4203-bef7-a015e073919c",
   "metadata": {},
   "outputs": [
    {
     "name": "stdout",
     "output_type": "stream",
     "text": [
      "191\n"
     ]
    }
   ],
   "source": [
    "occurrences = naive_2mm('TTCAAGCC', phix_genome_2)\n",
    "print(len(occurrences))"
   ]
  },
  {
   "cell_type": "code",
   "execution_count": 47,
   "id": "ad75058d-892b-4922-978d-2318af18beac",
   "metadata": {},
   "outputs": [
    {
     "name": "stdout",
     "output_type": "stream",
     "text": [
      "offset of leftmost occurrence: 49\n"
     ]
    }
   ],
   "source": [
    "occurrences = naive_2mm('AGGAGGTT', phix_genome_2)\n",
    "print('offset of leftmost occurrence: %d' % min(occurrences))"
   ]
  },
  {
   "cell_type": "code",
   "execution_count": 5,
   "id": "22928f1d-f8e5-4581-8ad1-7624c4dae95f",
   "metadata": {},
   "outputs": [],
   "source": [
    "reads,quals = readFastq(\"ERR037900_1.first1000.fastq\")"
   ]
  },
  {
   "cell_type": "code",
   "execution_count": 6,
   "id": "ef424395-62f9-4385-a5f3-840cfabbe57d",
   "metadata": {},
   "outputs": [],
   "source": [
    "def phred33toQ(qual):\n",
    "    return ord (qual)-33 #ord converts characters to ASCI values\n",
    "def Qtophred33(Q):\n",
    "    return chr(Q+33)"
   ]
  },
  {
   "cell_type": "code",
   "execution_count": 57,
   "id": "c6d88712-68cb-47e5-b0f4-7abcf27c584a",
   "metadata": {},
   "outputs": [
    {
     "name": "stdout",
     "output_type": "stream",
     "text": [
      "100\n"
     ]
    }
   ],
   "source": [
    "print(len(reads[1]))"
   ]
  },
  {
   "cell_type": "code",
   "execution_count": 7,
   "id": "7a4431bd-d826-4421-bacf-d08ca15eb721",
   "metadata": {},
   "outputs": [],
   "source": [
    "def qualityByPosition(quals):\n",
    "    indxNo = 0\n",
    "    min = phred33toQ(quals[0][0])\n",
    "    for i in quals:\n",
    "        for j in i:\n",
    "            # print(f\"{x}--{phred33toQ(j)}\") # Commented to disable all ASCII print\n",
    "            if phred33toQ(j) < min:\n",
    "                min = phred33toQ(j)\n",
    "                indxPosition = indxNo\n",
    "            indxNo = indxNo + 1\n",
    "    return min, (indxPosition % 100)\n",
    "\n"
   ]
  },
  {
   "cell_type": "code",
   "execution_count": 8,
   "id": "d4717bff-6f22-415b-bb5d-4655d83da739",
   "metadata": {},
   "outputs": [
    {
     "name": "stdout",
     "output_type": "stream",
     "text": [
      "2 66\n"
     ]
    }
   ],
   "source": [
    "min, indexPosition = qualityByPosition(quals)\n",
    "print(min,indexPosition)"
   ]
  },
  {
   "cell_type": "code",
   "execution_count": null,
   "id": "1e953c1d-4037-4a87-b75e-9c907f5b46bc",
   "metadata": {},
   "outputs": [],
   "source": []
  }
 ],
 "metadata": {
  "kernelspec": {
   "display_name": "Python 3",
   "language": "python",
   "name": "python3"
  },
  "language_info": {
   "codemirror_mode": {
    "name": "ipython",
    "version": 3
   },
   "file_extension": ".py",
   "mimetype": "text/x-python",
   "name": "python",
   "nbconvert_exporter": "python",
   "pygments_lexer": "ipython3",
   "version": "3.8.8"
  }
 },
 "nbformat": 4,
 "nbformat_minor": 5
}
